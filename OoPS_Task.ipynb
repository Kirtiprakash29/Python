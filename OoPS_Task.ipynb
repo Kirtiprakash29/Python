{
 "cells": [
  {
   "cell_type": "code",
   "execution_count": null,
   "id": "0566fad4",
   "metadata": {},
   "outputs": [],
   "source": [
    "Q1, Create a vehicle class with an init method having instance variables as name_of_vehicle, max_speed\n",
    "and average_of_vehicle.\n"
   ]
  },
  {
   "cell_type": "code",
   "execution_count": 12,
   "id": "474a7c9b",
   "metadata": {},
   "outputs": [],
   "source": [
    "class vehicle():\n",
    "    def __init__(self,name_of_vehicle,max_speed,average_of_vehicle):\n",
    "        self.name_of_vehicle = name_of_vehicle\n",
    "        self.max_speed = max_speed\n",
    "        self.average_of_vehicle = average_of_vehicle\n",
    "ob1 = vehicle('Innova',220,85)"
   ]
  },
  {
   "cell_type": "code",
   "execution_count": null,
   "id": "6327950c",
   "metadata": {},
   "outputs": [],
   "source": []
  },
  {
   "cell_type": "markdown",
   "id": "cee34636",
   "metadata": {},
   "source": [
    "Q2. Create a child class car from the vehicle class created in Que 1, which will inherit the vehicle class.\n",
    "Create a method named seating_capacity which takes capacity as an argument and returns the name of\n",
    "the vehicle and its seating capacity."
   ]
  },
  {
   "cell_type": "code",
   "execution_count": 22,
   "id": "e96edfbb",
   "metadata": {},
   "outputs": [
    {
     "data": {
      "text/plain": [
       "(7, 'Innova')"
      ]
     },
     "execution_count": 22,
     "metadata": {},
     "output_type": "execute_result"
    }
   ],
   "source": [
    "class car(vehicle):\n",
    "    def seating_capacity(self,capacity):\n",
    "        self.capacity = capacity\n",
    "        vehicle.__init__(self,name_of_vehicle='Innova', max_speed = 220, average_of_vehicle= 75)\n",
    "        return self.capacity,self.name_of_vehicle\n",
    "ob2 = car(5,'Innova',120)\n",
    "ob2.seating_capacity(7)"
   ]
  },
  {
   "cell_type": "code",
   "execution_count": null,
   "id": "4c52a8fa",
   "metadata": {},
   "outputs": [],
   "source": []
  },
  {
   "cell_type": "markdown",
   "id": "e443e9c2",
   "metadata": {},
   "source": [
    "Q3. What is multiple inheritance? Write a python code to demonstrate multiple inheritance.\n",
    "\n",
    "--> Mulltiple Inheritance - Inheritance from multiple base class\n"
   ]
  },
  {
   "cell_type": "code",
   "execution_count": 40,
   "id": "7622a4cd",
   "metadata": {},
   "outputs": [
    {
     "name": "stdout",
     "output_type": "stream",
     "text": [
      "1 2 3\n"
     ]
    }
   ],
   "source": [
    "class A:\n",
    "    def __init__(self, a):\n",
    "        self.a = a\n",
    "\n",
    "class B:\n",
    "    def __init__(self, b):\n",
    "        self.b = b\n",
    "\n",
    "class C(A, B):\n",
    "    def __init__(self, c):\n",
    "        A.__init__(self, c)\n",
    "        B.__init__(self, c * 2)\n",
    "        self.c = c * 3\n",
    "\n",
    "c = C(1)\n",
    "print(c.a, c.b, c.c)\n"
   ]
  },
  {
   "cell_type": "markdown",
   "id": "731e009a",
   "metadata": {},
   "source": [
    "Q> What are getter and setter in python? Create a class and create a getter and a setter method in this\n",
    "class.\n",
    "-->Getter allows to access attribute of a class\n",
    "setter allows to set values of a parameter from different method"
   ]
  },
  {
   "cell_type": "markdown",
   "id": "6c26e6e3",
   "metadata": {},
   "source": [
    "Getter - This is getting access to attributes\n",
    "Setter - Allows to set or mutate values of attributes in class\n"
   ]
  },
  {
   "cell_type": "code",
   "execution_count": 9,
   "id": "6b1449af",
   "metadata": {},
   "outputs": [
    {
     "data": {
      "text/plain": [
       "100"
      ]
     },
     "execution_count": 9,
     "metadata": {},
     "output_type": "execute_result"
    }
   ],
   "source": [
    "class assign_task_oops():\n",
    "    def __init__(self,a1,b1):\n",
    "        self._a1 = a1\n",
    "        self._b1 = b1\n",
    "    def getter_a1(self):\n",
    "        return self._a1\n",
    "    def setter_a1(self,val):\n",
    "        self._a1 = val\n",
    "        return self._a1\n",
    "ob1 = assign_task_oops(10,20)\n",
    "ob1.getter_a1()\n",
    "ob1.setter_a1(100)"
   ]
  },
  {
   "cell_type": "code",
   "execution_count": null,
   "id": "6a19bc7b",
   "metadata": {},
   "outputs": [],
   "source": []
  },
  {
   "cell_type": "markdown",
   "id": "70dd0b63",
   "metadata": {},
   "source": [
    "Q5.What is method overriding in python? Write a python code to demonstrate method overriding.\n",
    "\n",
    "->Method Overriding is method in subclass that replaces method of class which has same name,parameter and signature."
   ]
  },
  {
   "cell_type": "code",
   "execution_count": 11,
   "id": "33f57598",
   "metadata": {},
   "outputs": [
    {
     "name": "stdout",
     "output_type": "stream",
     "text": [
      "Inside first class 10\n",
      "Inside second class 100\n"
     ]
    }
   ],
   "source": [
    "class m_class():\n",
    "    def methodd(self,a1):\n",
    "        self.a1 = a1\n",
    "        print(\"Inside first class\",self.a1)\n",
    "class m1_class(m_class):\n",
    "    def methodd(self,a1):\n",
    "        self.a1 = a1\n",
    "        print(\"Inside second class\",self.a1)\n",
    "#ob = m_class()\n",
    "#ob.methodd(10)\n",
    "ob1 = m1_class()\n",
    "ob1.methodd(100)"
   ]
  },
  {
   "cell_type": "code",
   "execution_count": null,
   "id": "7eeb1418",
   "metadata": {},
   "outputs": [],
   "source": []
  }
 ],
 "metadata": {
  "kernelspec": {
   "display_name": "Python 3 (ipykernel)",
   "language": "python",
   "name": "python3"
  },
  "language_info": {
   "codemirror_mode": {
    "name": "ipython",
    "version": 3
   },
   "file_extension": ".py",
   "mimetype": "text/x-python",
   "name": "python",
   "nbconvert_exporter": "python",
   "pygments_lexer": "ipython3",
   "version": "3.11.3"
  }
 },
 "nbformat": 4,
 "nbformat_minor": 5
}
