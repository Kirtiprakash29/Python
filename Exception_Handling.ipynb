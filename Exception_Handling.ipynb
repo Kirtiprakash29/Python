{
 "cells": [
  {
   "cell_type": "markdown",
   "id": "ca247771-ac0c-4191-ab71-1eee6a9a7234",
   "metadata": {},
   "source": [
    "What is an exception in python? Write the difference between exception and syntax errors?"
   ]
  },
  {
   "cell_type": "markdown",
   "id": "ad20f6fa-8aa6-4b17-bd08-cbe42bd121a7",
   "metadata": {},
   "source": [
    "Exception is an abnormal event that happens during execution of program(usually runtime serror).Thus hampering normal flow of program.\n",
    "Syntax error occurs when program/code is not in accordance to rules of that language.They are mostly detected by compiler and does not allow program to run while Exception is kind of error wherein something that occurs during run time and it can be handled via try/Exception block usage"
   ]
  },
  {
   "cell_type": "markdown",
   "id": "74dc5591-c0d8-4f57-a847-ae1452e09e82",
   "metadata": {},
   "source": []
  },
  {
   "cell_type": "markdown",
   "id": "d31ff7ba-a509-4b10-9070-3aa9f62fa814",
   "metadata": {},
   "source": [
    "What happens when an exception is not handled? Explain with example.\n",
    "\n",
    "When exception is not handled,it doesn't allow program to move ahead. So even though program is correct but due simple runtime error the rest of code gets blocked. Exception keeps on showing error on execution"
   ]
  },
  {
   "cell_type": "code",
   "execution_count": 1,
   "id": "b16970a6-e195-40e2-a1a0-3712dd9d9f81",
   "metadata": {},
   "outputs": [
    {
     "ename": "ZeroDivisionError",
     "evalue": "division by zero",
     "output_type": "error",
     "traceback": [
      "\u001b[0;31m---------------------------------------------------------------------------\u001b[0m",
      "\u001b[0;31mZeroDivisionError\u001b[0m                         Traceback (most recent call last)",
      "Cell \u001b[0;32mIn[1], line 2\u001b[0m\n\u001b[1;32m      1\u001b[0m a\u001b[38;5;241m=\u001b[39m\u001b[38;5;241m10\u001b[39m\n\u001b[0;32m----> 2\u001b[0m c\u001b[38;5;241m=\u001b[39m\u001b[43ma\u001b[49m\u001b[38;5;241;43m/\u001b[39;49m\u001b[38;5;241;43m0\u001b[39;49m\n\u001b[1;32m      3\u001b[0m b\u001b[38;5;241m=\u001b[39m\u001b[38;5;241m5\u001b[39m\u001b[38;5;241m*\u001b[39m\u001b[38;5;241m2\u001b[39m\n\u001b[1;32m      4\u001b[0m \u001b[38;5;28mprint\u001b[39m(b)\n",
      "\u001b[0;31mZeroDivisionError\u001b[0m: division by zero"
     ]
    }
   ],
   "source": [
    "a=10\n",
    "c=a/0\n",
    "b=5*2\n",
    "print(b)\n",
    "#Here we get zeroDivisionError for c.Code doesn't get executed even though b is fairly correct and ideally should be printed"
   ]
  },
  {
   "cell_type": "code",
   "execution_count": 10,
   "id": "5fa9b540-b522-4871-9a5e-b15433f82ae4",
   "metadata": {},
   "outputs": [
    {
     "name": "stdout",
     "output_type": "stream",
     "text": [
      "division by zero doesn't suffice\n",
      "b is 10\n"
     ]
    }
   ],
   "source": [
    "#Using try except exception handling is fine and block ahead gets executed along with anticipated error\n",
    "try:\n",
    "    a=10\n",
    "    c=a/0\n",
    "except ZeroDivisionError:\n",
    "    print(\"division by zero doesn't suffice\")\n",
    "b=5*2\n",
    "print(\"b is\",b)"
   ]
  },
  {
   "cell_type": "code",
   "execution_count": null,
   "id": "dc331a9d-75d8-4ec6-ad0f-d9ac0b3ee747",
   "metadata": {},
   "outputs": [],
   "source": []
  },
  {
   "cell_type": "markdown",
   "id": "2692407a-b38a-4909-9837-fc88429ddc56",
   "metadata": {},
   "source": [
    "Which python statements are used to catch and handle exception?\n",
    "\n",
    "try,except,else,finally are used to handle exception.\n",
    "If Block inside try throws error then except part handles that\n",
    "If Block inside try gets executed then else part gets executed\n",
    "finally has code wherein it gets executed irrespective of try/except/else block gets executed."
   ]
  },
  {
   "cell_type": "code",
   "execution_count": null,
   "id": "c2304cca-e4ec-4fce-a7f7-a40c1b4eee8c",
   "metadata": {},
   "outputs": [],
   "source": []
  },
  {
   "cell_type": "markdown",
   "id": "e09425c7-dae8-4060-a29c-0d037ded788d",
   "metadata": {},
   "source": [
    "Explain with an example\n",
    "try and else\n",
    "finally\n",
    "raise\n",
    "\n",
    "try and else - If Block inside try gets executed then else part gets executed\n",
    "finally - finally has code wherein it gets executed irrespective of try/except/else block gets executed.\n",
    "raise - is the keyword used to raise an exception\n",
    "\n"
   ]
  },
  {
   "cell_type": "code",
   "execution_count": 12,
   "id": "7869f210-0fa9-4b99-876f-dd782eb6a22f",
   "metadata": {},
   "outputs": [
    {
     "name": "stdout",
     "output_type": "stream",
     "text": [
      "division by zero doesn't suffice\n",
      "b is 10\n",
      "Here simple multiplication gets executed without exception\n",
      "End of this\n"
     ]
    }
   ],
   "source": [
    "try:\n",
    "    a=10\n",
    "    c=a/0\n",
    "except ZeroDivisionError:\n",
    "    print(\"division by zero doesn't suffice\")\n",
    "try:\n",
    "    b=5*2\n",
    "    print(\"b is\",b)\n",
    "except Exception as e:\n",
    "    print(e)\n",
    "else:\n",
    "    print(\"Here simple multiplication gets executed without exception\")\n",
    "finally:\n",
    "    print(\"End of this\")\n",
    "    \n",
    "#First try/except doesn't execute. Second tr gets executed->So else part executes. Finally part runs anyways irrespective of others "
   ]
  },
  {
   "cell_type": "code",
   "execution_count": null,
   "id": "55004cd2-c187-4db5-9eba-2947093a1487",
   "metadata": {},
   "outputs": [],
   "source": []
  },
  {
   "cell_type": "markdown",
   "id": "e8e01822-9410-4fba-ae42-a30fdb42c1e2",
   "metadata": {},
   "source": [
    "What are custom exceptions? Why do we need? Explain with example\n",
    "\n",
    "It is user defined exception. We need this to handle a situation which one can anticipate that it might occur while writing code to solve problem\n"
   ]
  },
  {
   "cell_type": "code",
   "execution_count": 14,
   "id": "a486964b-70b9-4662-b42c-bd42b2d6a776",
   "metadata": {},
   "outputs": [
    {
     "name": "stdin",
     "output_type": "stream",
     "text": [
      "Enter a number:  15\n"
     ]
    },
    {
     "name": "stdout",
     "output_type": "stream",
     "text": [
      "Exception occurred: Invalid Age\n"
     ]
    }
   ],
   "source": [
    "class InvalidAgeException(Exception):\n",
    "    pass\n",
    "\n",
    "number = 18\n",
    "\n",
    "try:\n",
    "    input_num = int(input(\"Enter a number: \"))\n",
    "    if input_num < number:\n",
    "        raise InvalidAgeException\n",
    "    else:\n",
    "        print(\"Eligible to Vote\")\n",
    "        \n",
    "except InvalidAgeException:\n",
    "    print(\"Exception occurred: Invalid Age\")"
   ]
  },
  {
   "cell_type": "code",
   "execution_count": null,
   "id": "d696c7b4-31e1-42d8-b9ea-606e10b6b243",
   "metadata": {},
   "outputs": [],
   "source": []
  },
  {
   "cell_type": "markdown",
   "id": "afcb9c68-d085-4d2e-96c3-5827e6173a05",
   "metadata": {},
   "source": [
    "Q6. Create custom exception class. USe it to solve exception\n"
   ]
  },
  {
   "cell_type": "code",
   "execution_count": 15,
   "id": "a4820ac7-ee14-4b08-8b06-9d438035d1cf",
   "metadata": {},
   "outputs": [
    {
     "name": "stdin",
     "output_type": "stream",
     "text": [
      "Enter a number:  18\n"
     ]
    },
    {
     "name": "stdout",
     "output_type": "stream",
     "text": [
      "Eligible to Vote\n"
     ]
    }
   ],
   "source": [
    "class InvalidAgeException(Exception):\n",
    "    pass\n",
    "\n",
    "number = 18\n",
    "\n",
    "try:\n",
    "    input_num = int(input(\"Enter a number: \"))\n",
    "    if input_num < number:\n",
    "        raise InvalidAgeException\n",
    "    else:\n",
    "        print(\"Eligible to Vote\")\n",
    "        \n",
    "except InvalidAgeException:\n",
    "    print(\"Exception occurred: Invalid Age\")"
   ]
  },
  {
   "cell_type": "code",
   "execution_count": null,
   "id": "3c75fbf7-2e81-47d1-b0a2-1a26d11a2b7c",
   "metadata": {},
   "outputs": [],
   "source": []
  }
 ],
 "metadata": {
  "kernelspec": {
   "display_name": "Python 3 (ipykernel)",
   "language": "python",
   "name": "python3"
  },
  "language_info": {
   "codemirror_mode": {
    "name": "ipython",
    "version": 3
   },
   "file_extension": ".py",
   "mimetype": "text/x-python",
   "name": "python",
   "nbconvert_exporter": "python",
   "pygments_lexer": "ipython3",
   "version": "3.10.8"
  }
 },
 "nbformat": 4,
 "nbformat_minor": 5
}
