{
 "cells": [
  {
   "cell_type": "markdown",
   "id": "378ffcc3-0b58-4419-8a67-babe5ba97b71",
   "metadata": {},
   "source": [
    "Q1. Create a Pandas Series that contains the following data: 4, 8, 15, 16, 23, and 42. Then, print the series."
   ]
  },
  {
   "cell_type": "code",
   "execution_count": 5,
   "id": "fbde4e79-6dde-47d5-9023-87fbd8397614",
   "metadata": {},
   "outputs": [
    {
     "name": "stdout",
     "output_type": "stream",
     "text": [
      "0     4\n",
      "1     8\n",
      "2    15\n",
      "3    16\n",
      "4    23\n",
      "5    42\n",
      "dtype: int64\n"
     ]
    }
   ],
   "source": [
    "import pandas as pd\n",
    "s=pd.Series([4,8,15,16,23,42])\n",
    "print(s)"
   ]
  },
  {
   "cell_type": "markdown",
   "id": "22e64787-b691-4f37-bdf0-a051ed4c2154",
   "metadata": {},
   "source": [
    "Q2. Create a variable of list type containing 10 elements in it, and apply pandas.Series function on the\n",
    "variable print it."
   ]
  },
  {
   "cell_type": "code",
   "execution_count": 7,
   "id": "29913892-3679-46bc-bd34-3d9490d62120",
   "metadata": {},
   "outputs": [
    {
     "name": "stdout",
     "output_type": "stream",
     "text": [
      "0     10\n",
      "1     20\n",
      "2     30\n",
      "3     40\n",
      "4     50\n",
      "5     60\n",
      "6     70\n",
      "7     80\n",
      "8     90\n",
      "9    100\n",
      "dtype: int64\n"
     ]
    }
   ],
   "source": [
    "list1 =[10,20,30,40,50,60,70,80,90,100]\n",
    "print(pd.Series(list1))"
   ]
  },
  {
   "cell_type": "code",
   "execution_count": null,
   "id": "46f35b31-1e88-4bfb-8a9f-cd8a2deccce9",
   "metadata": {},
   "outputs": [],
   "source": []
  },
  {
   "cell_type": "markdown",
   "id": "71c83318-b6bb-46e9-a26b-3c8940b653f3",
   "metadata": {},
   "source": [
    "Q3. Create a Pandas DataFrame that contains the following data:\n",
    "\n",
    "Then, print the DataFrame."
   ]
  },
  {
   "cell_type": "code",
   "execution_count": 21,
   "id": "b93982d9-d339-481e-828a-c77c27ed2b06",
   "metadata": {},
   "outputs": [
    {
     "name": "stdout",
     "output_type": "stream",
     "text": [
      "  Name  Age Gender\n",
      " alice   25 Female\n",
      "   Bob   30   Male\n",
      "Claire   27 Female\n"
     ]
    }
   ],
   "source": [
    "data = {'Name':['alice','Bob','Claire'],\n",
    "        'Age' : [25,30,27],\n",
    "        'Gender' : ['Female','Male','Female']}\n",
    "df = pd.DataFrame(data)\n",
    "df1=df.to_string(index=False)\n",
    "print(df1)"
   ]
  },
  {
   "cell_type": "code",
   "execution_count": null,
   "id": "8c9cc8e8-64f3-40e4-a05a-8d6949e369b7",
   "metadata": {},
   "outputs": [],
   "source": []
  },
  {
   "cell_type": "markdown",
   "id": "a6fb1bcd-c166-4f51-b53a-2d8410a98913",
   "metadata": {},
   "source": [
    "Q4. What is ‘DataFrame’ in pandas and how is it different from pandas.series? Explain with an example.\n",
    "\n",
    "->A DataFrame is a data structure that organizes data into a 2-dimensional table of rows and columns, much like a spreadsheet. DataFrames are one of the most common data structures used in modern data analytics because they are a flexible and intuitive way of storing and working with data.\n",
    "\n",
    "Dimensions\n",
    "The dimensions of the data are where a Pandas Series and a single-column DataFrame most obviously diverge. A Series only has one data column, whereas a single-column DataFrame contains both a data column and an index. The labels for the data are contained in the index, which is a second column.\n",
    "\n",
    "Functionality\n",
    "There are certain distinctions in the extra features that a Series and a single-column DataFrame offer, despite the fact that they share many common functionalities. Additional features like filtering, merging, and joining is accessible in a single-column DataFrame but not in a Series.\n",
    "\n",
    "Data Alignment\n",
    "Based on the index labels, a Pandas Series can be aligned with another Series or DataFrame. Even if the index labels are ordered differently, the alignment makes sure the data is correctly matched. Data alignment is also supported in a single-column DataFrame, but it is determined by the column label.\n",
    "\n",
    "Performance\n",
    "For actions that only involve one column of data, a Series performs more quickly than a single-column DataFrame. This is so because a Series has a more straightforward structure than a DataFrame with one column.\n",
    "\n"
   ]
  },
  {
   "cell_type": "code",
   "execution_count": 22,
   "id": "d251a065-43af-428d-9b0e-81f6b1c597e6",
   "metadata": {},
   "outputs": [
    {
     "name": "stdout",
     "output_type": "stream",
     "text": [
      "0     4\n",
      "1     8\n",
      "2    15\n",
      "3    16\n",
      "4    23\n",
      "5    42\n",
      "dtype: int64\n"
     ]
    }
   ],
   "source": [
    "#For Series-Only one column allowed\n",
    "import pandas as pd\n",
    "s=pd.Series([4,8,15,16,23,42])\n",
    "print(s)"
   ]
  },
  {
   "cell_type": "code",
   "execution_count": 23,
   "id": "8e2f4b8e-2116-4821-a164-8b61e6d40c26",
   "metadata": {},
   "outputs": [
    {
     "name": "stdout",
     "output_type": "stream",
     "text": [
      "  Name  Age Gender\n",
      " alice   25 Female\n",
      "   Bob   30   Male\n",
      "Claire   27 Female\n"
     ]
    }
   ],
   "source": [
    "#for dataframe-There are 3 rows and 3 columns\n",
    "data = {'Name':['alice','Bob','Claire'],\n",
    "        'Age' : [25,30,27],\n",
    "        'Gender' : ['Female','Male','Female']}\n",
    "df = pd.DataFrame(data)\n",
    "df1=df.to_string(index=False)\n",
    "print(df1)"
   ]
  },
  {
   "cell_type": "markdown",
   "id": "10937ef8-a979-4229-ad80-e4badd47c40b",
   "metadata": {},
   "source": [
    "Q5. What are some common functions you can use to manipulate data in a Pandas DataFrame? Can\n",
    "you give an example of when you might use one of these functions?\n",
    "\n",
    "Dropping the missing values in DataFrame, it can be done using the dropna() method, it removes all the NaN values in the dataframe.. df.dropna()\n",
    "Merging DataFrames using merge(), arguments passed are the dataframes to be merged along with the column name\n",
    "Renaming the columns of dataframe using rename(), arguments passed are the columns to be renamed & inplace. \n",
    "-->country_code = df.rename(columns={'Name': 'CountryName','Code': 'CountryCode'},inplace=False)\n",
    "country_code\n"
   ]
  },
  {
   "cell_type": "markdown",
   "id": "6139be8a-9c63-4168-b243-f3f3ac55c789",
   "metadata": {},
   "source": [
    "Q6. Which of the following is mutable in nature Series, DataFrame, Panel?\n",
    "\n",
    "-->Panel and dataframe are mutable"
   ]
  },
  {
   "cell_type": "code",
   "execution_count": null,
   "id": "a68dd5b0-5085-45da-bf28-b6aec89b8191",
   "metadata": {},
   "outputs": [],
   "source": []
  },
  {
   "cell_type": "markdown",
   "id": "680d399a-5fcc-4da9-a143-c996a0934e75",
   "metadata": {},
   "source": [
    "\n",
    "Q7. Create a DataFrame using multiple Series. Explain with an example."
   ]
  },
  {
   "cell_type": "code",
   "execution_count": 29,
   "id": "04fad744-5185-45b4-b03c-6ab71ba28020",
   "metadata": {},
   "outputs": [
    {
     "name": "stdout",
     "output_type": "stream",
     "text": [
      " index Name  Marks\n",
      "     1 Shub     78\n",
      "     2  Var     58\n",
      "     3  Rah     69\n",
      "     4  Man     89\n"
     ]
    }
   ],
   "source": [
    "import pandas as pd\n",
    "s=pd.Series([1,2,3,4],name='index')\n",
    "n=pd.Series(['Shub','Var','Rah','Man'],name='Name')\n",
    "m=pd.Series([78,58,69,89],name='Marks')\n",
    "df = pd.concat([s,n,m],axis=1)\n",
    "df1 = df.to_string(index=False)\n",
    "print(df1)"
   ]
  },
  {
   "cell_type": "code",
   "execution_count": null,
   "id": "e161c719-b31c-4d6f-8fff-1321c5d50118",
   "metadata": {},
   "outputs": [],
   "source": []
  }
 ],
 "metadata": {
  "kernelspec": {
   "display_name": "Python 3 (ipykernel)",
   "language": "python",
   "name": "python3"
  },
  "language_info": {
   "codemirror_mode": {
    "name": "ipython",
    "version": 3
   },
   "file_extension": ".py",
   "mimetype": "text/x-python",
   "name": "python",
   "nbconvert_exporter": "python",
   "pygments_lexer": "ipython3",
   "version": "3.10.8"
  }
 },
 "nbformat": 4,
 "nbformat_minor": 5
}
