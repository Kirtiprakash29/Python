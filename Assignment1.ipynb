{
 "cells": [
  {
   "cell_type": "code",
   "execution_count": 1,
   "id": "68c8226f-6348-4f80-9c1c-9b33a64516fd",
   "metadata": {},
   "outputs": [],
   "source": [
    "str = \"This is PWSkills Assignment\"\n",
    "#String variable"
   ]
  },
  {
   "cell_type": "code",
   "execution_count": 2,
   "id": "1c34ce61-2a80-429a-81de-669e800142a3",
   "metadata": {},
   "outputs": [],
   "source": [
    "l = [1,2,99,'Jupyter',2.5]\n",
    "#List variable"
   ]
  },
  {
   "cell_type": "code",
   "execution_count": 3,
   "id": "668a394b-9705-44f4-94a8-2ad7fef8628f",
   "metadata": {},
   "outputs": [],
   "source": [
    "f = 2.5"
   ]
  },
  {
   "cell_type": "code",
   "execution_count": 4,
   "id": "0c951112-0f51-4ead-924f-835cad16d349",
   "metadata": {},
   "outputs": [],
   "source": [
    "t = (2,'Apple','Python')"
   ]
  },
  {
   "cell_type": "code",
   "execution_count": 5,
   "id": "45596338-2f25-4801-acfd-1977eb6694ed",
   "metadata": {},
   "outputs": [
    {
     "name": "stdout",
     "output_type": "stream",
     "text": [
      "<class 'str'>\n",
      "<class 'list'>\n",
      "<class 'float'>\n",
      "<class 'tuple'>\n"
     ]
    }
   ],
   "source": [
    "print(type(str))\n",
    "print(type(l))\n",
    "print(type(f))\n",
    "print(type(t))"
   ]
  },
  {
   "cell_type": "raw",
   "id": "19a2ea13-6040-44d9-96f1-6a8f75b16b1b",
   "metadata": {},
   "source": [
    "Q2. State datatypes of following:\n",
    "\n",
    "1. var1 = ' '\n",
    "Ans- str type\n",
    "\n",
    "2. var2 = '[DS,ML,Python]'\n",
    "Ans- str type\n",
    "\n",
    "3. var3 = ['DS','ML','Python']\n",
    "Ans- List type\n",
    "\n",
    "4. var4 =1\n",
    "Ans- int type\n"
   ]
  },
  {
   "cell_type": "code",
   "execution_count": 6,
   "id": "ea09fc46-7a58-4ad9-b210-a4cb300f2ac0",
   "metadata": {},
   "outputs": [
    {
     "name": "stdout",
     "output_type": "stream",
     "text": [
      "<class 'str'>\n",
      "<class 'str'>\n",
      "<class 'list'>\n",
      "<class 'int'>\n"
     ]
    }
   ],
   "source": [
    "var1 =''\n",
    "var2 = '[DS,ML,Python]'\n",
    "var3 = ['DS','ML','Python']\n",
    "var4 = 1\n",
    "print(type(var1))\n",
    "print(type(var2))\n",
    "print(type(var3))\n",
    "print(type(var4))"
   ]
  },
  {
   "cell_type": "raw",
   "id": "0f699940-24ca-40de-8706-9174be43077a",
   "metadata": {},
   "source": [
    "Q3. Explain following operator using example\n",
    "\n",
    "1. /  -  operator is used for division giving quotient as result in float datatype Ex 22/4 is 5.5\n",
    "2. %  -  operator is used to give remainder after dividing 26%5 is 1\n",
    "3. // -  operator is used for division giving quotient as result with result as integer datatype. Ex 22//4 is 5\n",
    "4. ** -  operator is used for power ex- 2**3 gives result as 8\n",
    "\n"
   ]
  },
  {
   "cell_type": "code",
   "execution_count": 7,
   "id": "23b78978-9022-48bc-9200-ea7d897799d6",
   "metadata": {},
   "outputs": [
    {
     "data": {
      "text/plain": [
       "5.5"
      ]
     },
     "execution_count": 7,
     "metadata": {},
     "output_type": "execute_result"
    }
   ],
   "source": [
    "22/4"
   ]
  },
  {
   "cell_type": "code",
   "execution_count": 8,
   "id": "86383268-468c-4f0d-8219-e6ffad14f04b",
   "metadata": {},
   "outputs": [
    {
     "data": {
      "text/plain": [
       "1"
      ]
     },
     "execution_count": 8,
     "metadata": {},
     "output_type": "execute_result"
    }
   ],
   "source": [
    "26%5"
   ]
  },
  {
   "cell_type": "code",
   "execution_count": 9,
   "id": "d8149b7f-419c-49bd-93c5-ac08aba6ed57",
   "metadata": {},
   "outputs": [
    {
     "data": {
      "text/plain": [
       "5"
      ]
     },
     "execution_count": 9,
     "metadata": {},
     "output_type": "execute_result"
    }
   ],
   "source": [
    "22//4"
   ]
  },
  {
   "cell_type": "code",
   "execution_count": 10,
   "id": "07a7fe1b-3c85-41d8-84a4-5a2835736703",
   "metadata": {},
   "outputs": [
    {
     "data": {
      "text/plain": [
       "8"
      ]
     },
     "execution_count": 10,
     "metadata": {},
     "output_type": "execute_result"
    }
   ],
   "source": [
    "2**3"
   ]
  },
  {
   "cell_type": "code",
   "execution_count": 11,
   "id": "fa908608-ba93-4caf-843b-b22a8f576cef",
   "metadata": {},
   "outputs": [
    {
     "name": "stdout",
     "output_type": "stream",
     "text": [
      "11 is of datatype   <class 'int'>\n",
      "29 is of datatype   <class 'int'>\n",
      "1 is of datatype   <class 'int'>\n",
      "4 is of datatype   <class 'int'>\n",
      "Python is of datatype   <class 'str'>\n",
      "True is of datatype   <class 'bool'>\n",
      "4.5 is of datatype   <class 'float'>\n",
      "apple is of datatype   <class 'str'>\n",
      "6.98 is of datatype   <class 'float'>\n",
      "False is of datatype   <class 'bool'>\n"
     ]
    }
   ],
   "source": [
    "L1 = [11, 29, 1, 4, 'Python', True, 4.5, 'apple', 6.98, False]\n",
    "for i in L1:\n",
    "    print(i, \"is of datatype  \", type(i))"
   ]
  },
  {
   "cell_type": "code",
   "execution_count": 12,
   "id": "f9baf42d-eb41-4003-b302-1026593b5dcc",
   "metadata": {},
   "outputs": [
    {
     "name": "stdin",
     "output_type": "stream",
     "text": [
      "Enter a number A 30\n",
      "Enter a number B 5\n"
     ]
    },
    {
     "name": "stdout",
     "output_type": "stream",
     "text": [
      "A is divided by b with quotient as  6\n"
     ]
    }
   ],
   "source": [
    "a = int(input(\"Enter a number A\"))\n",
    "b = int(input(\"Enter a number B\"))\n",
    "while b!=0 :\n",
    "    if a%b == 0:\n",
    "        x = a//b\n",
    "        print(\"A is divided by b with quotient as \",x)\n",
    "        break"
   ]
  },
  {
   "cell_type": "code",
   "execution_count": 13,
   "id": "611a5103-487b-434d-8765-89d915dbf23c",
   "metadata": {},
   "outputs": [
    {
     "name": "stdin",
     "output_type": "stream",
     "text": [
      "Enter a number A 30\n",
      "Enter a number B 4\n"
     ]
    },
    {
     "name": "stdout",
     "output_type": "stream",
     "text": [
      "A is not divided by B completely. It leaves some remainder or float value\n"
     ]
    }
   ],
   "source": [
    "a = int(input(\"Enter a number A\"))\n",
    "b = int(input(\"Enter a number B\"))\n",
    "while b!=0 :\n",
    "    if a%b == 0:\n",
    "        x = a//b\n",
    "        print(\"A is divided by b with quotient as \",x)\n",
    "    else:\n",
    "        print(\"A is not divided by B completely. It leaves some remainder or float value\")\n",
    "        break"
   ]
  },
  {
   "cell_type": "code",
   "execution_count": 14,
   "id": "0526b3f4-d4e0-4acd-9196-c05e841c4b24",
   "metadata": {},
   "outputs": [
    {
     "name": "stdout",
     "output_type": "stream",
     "text": [
      "The no  1 is not divisible by 3\n",
      "The no  22 is not divisible by 3\n",
      "The no  33 is divisible by 3\n",
      "The no  45 is divisible by 3\n",
      "The no  57 is divisible by 3\n",
      "The no  29 is not divisible by 3\n",
      "The no  335 is not divisible by 3\n",
      "The no  69 is divisible by 3\n",
      "The no  4 is not divisible by 3\n",
      "The no  10 is not divisible by 3\n",
      "The no  9 is divisible by 3\n",
      "The no  11 is not divisible by 3\n",
      "The no  31 is not divisible by 3\n",
      "The no  63 is divisible by 3\n",
      "The no  45678 is divisible by 3\n",
      "The no  9876 is divisible by 3\n",
      "The no  9066 is divisible by 3\n",
      "The no  211 is not divisible by 3\n",
      "The no  229 is not divisible by 3\n",
      "The no  89 is not divisible by 3\n",
      "The no  9543284 is not divisible by 3\n",
      "The no  93 is divisible by 3\n",
      "The no  1267 is not divisible by 3\n",
      "The no  95 is not divisible by 3\n",
      "The no  2023 is not divisible by 3\n"
     ]
    }
   ],
   "source": [
    "L2 = [1,22,33,45,57,29,335,69,4,10,9,11,31,63,45678,9876,9066,211,229,89,9543284,93,1267,95,2023]\n",
    "for i in L2:\n",
    "    if i%3 ==0:\n",
    "        print(\"The no \",i,\"is divisible by 3\")\n",
    "    else:\n",
    "        print(\"The no \",i,\"is not divisible by 3\")\n",
    "        "
   ]
  },
  {
   "cell_type": "code",
   "execution_count": 15,
   "id": "1d591cc3-c658-417c-b060-e672a1738e6e",
   "metadata": {},
   "outputs": [],
   "source": [
    "#leaving it blank"
   ]
  },
  {
   "cell_type": "raw",
   "id": "0784b62e-219a-4e50-9e50-750ae105b664",
   "metadata": {},
   "source": [
    "List is mutable datatype. Ex - l =[0,2,3] is list then l[1] = 1 will replace 2\n",
    "Tuple is immutable Ex - t = (1,2,3)"
   ]
  },
  {
   "cell_type": "code",
   "execution_count": 16,
   "id": "9802847b-1caa-4e35-ad63-ebfed8ba0c15",
   "metadata": {},
   "outputs": [
    {
     "data": {
      "text/plain": [
       "[0, 2, 4]"
      ]
     },
     "execution_count": 16,
     "metadata": {},
     "output_type": "execute_result"
    }
   ],
   "source": [
    "l = [0,2,4]\n",
    "l"
   ]
  },
  {
   "cell_type": "code",
   "execution_count": 17,
   "id": "f5709271-8c99-4585-af0d-c53135504e9f",
   "metadata": {},
   "outputs": [],
   "source": [
    "l[1]=1"
   ]
  },
  {
   "cell_type": "code",
   "execution_count": 18,
   "id": "3cfb59c5-caa3-40b8-bac0-ef78415d960e",
   "metadata": {},
   "outputs": [
    {
     "data": {
      "text/plain": [
       "[0, 1, 4]"
      ]
     },
     "execution_count": 18,
     "metadata": {},
     "output_type": "execute_result"
    }
   ],
   "source": [
    "l"
   ]
  },
  {
   "cell_type": "code",
   "execution_count": 19,
   "id": "612c261f-6077-498d-abac-b177828bab6c",
   "metadata": {},
   "outputs": [
    {
     "data": {
      "text/plain": [
       "(0, 1, 2)"
      ]
     },
     "execution_count": 19,
     "metadata": {},
     "output_type": "execute_result"
    }
   ],
   "source": [
    "t = (0,1,2)\n",
    "t"
   ]
  },
  {
   "cell_type": "code",
   "execution_count": 21,
   "id": "56994a58-a3fe-401d-b9cd-ea7f8d4a9f8d",
   "metadata": {},
   "outputs": [
    {
     "ename": "SyntaxError",
     "evalue": "cannot assign to function call here. Maybe you meant '==' instead of '='? (2337175149.py, line 1)",
     "output_type": "error",
     "traceback": [
      "\u001b[0;36m  Cell \u001b[0;32mIn[21], line 1\u001b[0;36m\u001b[0m\n\u001b[0;31m    t(1)=2\u001b[0m\n\u001b[0m    ^\u001b[0m\n\u001b[0;31mSyntaxError\u001b[0m\u001b[0;31m:\u001b[0m cannot assign to function call here. Maybe you meant '==' instead of '='?\n"
     ]
    }
   ],
   "source": [
    "t(1)=2"
   ]
  },
  {
   "cell_type": "code",
   "execution_count": null,
   "id": "42bacbee-4912-4f30-b6e2-47326ba6c0d2",
   "metadata": {},
   "outputs": [],
   "source": []
  }
 ],
 "metadata": {
  "kernelspec": {
   "display_name": "Python 3 (ipykernel)",
   "language": "python",
   "name": "python3"
  },
  "language_info": {
   "codemirror_mode": {
    "name": "ipython",
    "version": 3
   },
   "file_extension": ".py",
   "mimetype": "text/x-python",
   "name": "python",
   "nbconvert_exporter": "python",
   "pygments_lexer": "ipython3",
   "version": "3.10.8"
  }
 },
 "nbformat": 4,
 "nbformat_minor": 5
}
