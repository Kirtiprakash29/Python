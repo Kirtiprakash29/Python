{
 "cells": [
  {
   "cell_type": "markdown",
   "id": "89619870-e12e-469b-9c49-37b7cc727ab9",
   "metadata": {},
   "source": [
    "Q1>  What is a database? Differentiate between SQL and NoSQL databases.\n",
    "\n",
    "-> Database is organised collection of data in structured(MySQL) or unstructured(MongoDB) form.\n",
    "SQL Database is structured and comes with predefined schema,language while NoSQL is document based and may store data in any organised or unorganised for but can be retrieved by its key as it's document form\n",
    "NoSQL handles higher data traffic concurrently than SQl. This is the reason NoSQL is more preferred nowadays\n",
    "SQL databases follow ACID properties (Atomicity, Consistency, Isolation, and Durability) whereas the NoSQL database follows the Brewers CAP theorem (Consistency, Availability, and Partition tolerance).\n",
    "SQL is good for complex query compared to NoSQL"
   ]
  },
  {
   "cell_type": "markdown",
   "id": "5ed537cc-b461-47e6-a1da-f4af9dbff565",
   "metadata": {},
   "source": [
    "Q2. What is DDL? Explain why CREATE, DROP, ALTER, and TRUNCATE are used with an example.\n",
    "\n",
    "->  DDL (Data Definition Language) is a type of SQL command used to define the structure in way data is stored and modify data. It creates, alters, and deletes database objects such as tables, views, indexes, and users. Examples of DDL statements include CREATE, ALTER, DROP and TRUNCATE.\n",
    "CREATE is used to make a new table defining its schema,name of columns,its datatype,property\n",
    "DROP is used to remove data from database along with its schema i.e coplte removal\n",
    "ALTER is used to modify schema of table i.e changes in column\n",
    "TRUNCATE is used to empty table. Removal of data from existing table"
   ]
  },
  {
   "cell_type": "markdown",
   "id": "1f24911d-222f-4c23-9d85-33b99e1149b0",
   "metadata": {},
   "source": [
    "Q3. What is DML? Explain INSERT, UPDATE, and DELETE with an example.\n",
    "\n",
    "->Data Manipulation LAnguage(DML) are the commands used to enter data inside database(table) wherein schema has been predefined by DDL.\n",
    "INSERT is used to enter fresh data in table\n",
    "UPDATE is used to alter en existing data in table\n",
    "DELETE is used to remove data from table"
   ]
  },
  {
   "cell_type": "markdown",
   "id": "549a8806-74ae-4747-ba29-5f27ab0159c6",
   "metadata": {},
   "source": [
    "Q4. What is DQL? Explain SELECT with an example.\n",
    "\n",
    "->The DQL statements is used to query the data and information contained in database with predefined schema. The goal of the DQL Commands is to return a schema relation on the basis of the query supplied to them.\n",
    "SELECT is used to extract data from database.SELECT statement on a table or collection of tables is compiled into a new temporary table, which is subsequently displayed or received by a program\n",
    "SELECT * FROM DB1"
   ]
  },
  {
   "cell_type": "markdown",
   "id": "860167da-077f-4059-baab-060144c097ec",
   "metadata": {},
   "source": [
    "Q5. Explain Primary Key and Foreign Key.\n",
    "\n",
    "->A primary key generally focuses on the uniqueness of the table. It assures the value in the specific column is unique.The table allows only one primary key. Thus helping in data retrieval as record gets identified by primary key\n",
    "\n",
    "A foreign key is used to link or build a relationship between the two tables. "
   ]
  },
  {
   "cell_type": "code",
   "execution_count": null,
   "id": "79312ebb-a3fc-407d-a15c-155fb6912f1e",
   "metadata": {},
   "outputs": [],
   "source": []
  },
  {
   "cell_type": "markdown",
   "id": "0d637197-a1a2-4d16-b877-63af821766f1",
   "metadata": {},
   "source": [
    "Q6. Write a python code to connect MySQL to python. Explain the cursor() and execute() method."
   ]
  },
  {
   "cell_type": "markdown",
   "id": "c364e033-4b42-4594-8554-05858800b176",
   "metadata": {},
   "source": [
    "import mysql.connector\n",
    "mydb = mysql.connector.connect(\n",
    "  host=\"localhost\",\n",
    "  user=\"abc\",\n",
    "  password=\"password\"\n",
    ")\n",
    "print(mydb)\n",
    "mycursor = mydb.cursor()\n",
    "mycursor.execute(\"SHOW DATABASES\")\n",
    "for x in mycursor:\n",
    "  print(x)\n",
    "  \n",
    "Cursor Allows Python code to execute SQL command in a database session. Cursors are created by the connection. cursor() method: they are bound to the connection for the entire lifetime and all the commands are executed in the context of the database session wrapped by the connection using close()\n",
    "execute is used to run query/command\n",
    "cursor.execute()  -  This method executes the given database operation (query or command)"
   ]
  },
  {
   "cell_type": "markdown",
   "id": "7db20e82-7ea5-4cc8-8ae5-08d764db8752",
   "metadata": {},
   "source": [
    "Q7. Give the order of execution of SQL clauses in an SQL query.\n",
    "\n",
    "->  JOIN > FROM > WHERE > GROUP BY > HAVING > SELECT > DISTINCT > ORDER BY > LIMIT"
   ]
  },
  {
   "cell_type": "code",
   "execution_count": null,
   "id": "d9c81fa7-052a-4bd6-95bb-bd29751a0ec1",
   "metadata": {},
   "outputs": [],
   "source": []
  }
 ],
 "metadata": {
  "kernelspec": {
   "display_name": "Python 3 (ipykernel)",
   "language": "python",
   "name": "python3"
  },
  "language_info": {
   "codemirror_mode": {
    "name": "ipython",
    "version": 3
   },
   "file_extension": ".py",
   "mimetype": "text/x-python",
   "name": "python",
   "nbconvert_exporter": "python",
   "pygments_lexer": "ipython3",
   "version": "3.10.8"
  }
 },
 "nbformat": 4,
 "nbformat_minor": 5
}
