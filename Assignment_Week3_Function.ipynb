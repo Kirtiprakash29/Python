{
 "cells": [
  {
   "cell_type": "markdown",
   "id": "a4090159",
   "metadata": {},
   "source": [
    "Q1. Which keyword is used to create a function? Create a function to return a list of odd numbers in the\n",
    "range of 1 to 25.\n",
    "\n",
    "--> \"def\" is the keyword used to create function."
   ]
  },
  {
   "cell_type": "code",
   "execution_count": 2,
   "id": "9027c8c4",
   "metadata": {},
   "outputs": [
    {
     "data": {
      "text/plain": [
       "[1, 3, 5, 7, 9, 11, 13, 15, 17, 19, 21, 23, 25]"
      ]
     },
     "execution_count": 2,
     "metadata": {},
     "output_type": "execute_result"
    }
   ],
   "source": [
    "def Assign3_odd():\n",
    "    l=[]\n",
    "    for i in range(1,26):\n",
    "        if i%2 == 1:\n",
    "            l.append(i)\n",
    "    return l\n",
    "Assign3_odd()"
   ]
  },
  {
   "cell_type": "markdown",
   "id": "e9ca5981",
   "metadata": {},
   "source": [
    "Q2. Why *args and **kwargs is used in some functions? Create a function each for *args and **kwargs to\n",
    "demonstrate their use.\n",
    "\n",
    "--> *args is used with function ceation as parameter when we don't know how many parameters are to be passed beforehand\n",
    "**kwargs is used with function ceation as parameter when we don't know how many parameters are to be passed beforehand in form of key value pair or dictionary"
   ]
  },
  {
   "cell_type": "code",
   "execution_count": 6,
   "id": "30997149",
   "metadata": {},
   "outputs": [
    {
     "name": "stdout",
     "output_type": "stream",
     "text": [
      "191\n",
      "241\n"
     ]
    }
   ],
   "source": [
    "def assign3_arg(*args):\n",
    "    return sum(args)\n",
    "print(assign3_arg(23,34,56,78))\n",
    "print(assign3_arg(12,23,45,67,89,2,3))"
   ]
  },
  {
   "cell_type": "code",
   "execution_count": 11,
   "id": "74f028fe",
   "metadata": {},
   "outputs": [
    {
     "data": {
      "text/plain": [
       "{'Name': 'Kirti', 'gender': 'MAle', 'kwargs': 'Check'}"
      ]
     },
     "execution_count": 11,
     "metadata": {},
     "output_type": "execute_result"
    }
   ],
   "source": [
    "def assign3_karg(**kwargs):\n",
    "    return kwargs\n",
    "assign3_karg(Name='Kirti',gender='MAle',kwargs='Check')\n"
   ]
  },
  {
   "cell_type": "code",
   "execution_count": 12,
   "id": "e48cfcf4",
   "metadata": {},
   "outputs": [
    {
     "name": "stdout",
     "output_type": "stream",
     "text": [
      "Last name Delhi\n"
     ]
    }
   ],
   "source": [
    "#Specific arguement used among many\n",
    "def assign3_funct(**kwargs):\n",
    "    print(\"Last name\",kwargs['City'])\n",
    "assign3_funct(status = 'Checking',City='Delhi')"
   ]
  },
  {
   "cell_type": "markdown",
   "id": "92fa3eda",
   "metadata": {},
   "source": [
    "Q3. What is an iterator in python? Name the method used to initialise the iterator object and the method\n",
    "used for iteration. Use these methods to print the first five elements of the given list [2, 4, 6, 8, 10, 12, 14, 16,\n",
    "18, 20].\n",
    "\n",
    "-->Iterator is used to traverse through specific range or finite number of values\n",
    "iter() along with next is used in python as built in iterator"
   ]
  },
  {
   "cell_type": "code",
   "execution_count": 13,
   "id": "841e57e4",
   "metadata": {},
   "outputs": [
    {
     "name": "stdout",
     "output_type": "stream",
     "text": [
      "2\n",
      "4\n",
      "6\n",
      "8\n",
      "10\n"
     ]
    }
   ],
   "source": [
    "l1 =[2,4,6,8,10,12,14,16,18,20]\n",
    "assign3_iter = iter(l1)\n",
    "print(next(assign3_iter))\n",
    "print(next(assign3_iter))\n",
    "print(next(assign3_iter))\n",
    "print(next(assign3_iter))\n",
    "print(next(assign3_iter))"
   ]
  },
  {
   "cell_type": "code",
   "execution_count": 14,
   "id": "98eabf01",
   "metadata": {},
   "outputs": [
    {
     "name": "stdout",
     "output_type": "stream",
     "text": [
      "[2, 4, 6, 8, 10]\n"
     ]
    }
   ],
   "source": [
    "l1 =[2,4,6,8,10,12,14,16,18,20]\n",
    "l2=[]\n",
    "#while(len(l1)>0):\n",
    "for i in range(0,5):\n",
    "    l2.append(l1[i])\n",
    "print(l2)"
   ]
  },
  {
   "cell_type": "markdown",
   "id": "7f68c59b",
   "metadata": {},
   "source": [
    "Q4. What is a generator function in python? Why yield keyword is used? Give an example of a generator\n",
    "function.\n",
    "\n",
    "-->Generator functions are one which doesn't return single value but a list of values\n",
    "Yield is used as to recognise function as generator which will not tarverse and throw output one by one but rather all together"
   ]
  },
  {
   "cell_type": "code",
   "execution_count": 15,
   "id": "43286093",
   "metadata": {},
   "outputs": [
    {
     "name": "stdout",
     "output_type": "stream",
     "text": [
      "0\n",
      "1\n",
      "1\n",
      "2\n",
      "3\n",
      "5\n",
      "8\n",
      "13\n",
      "21\n",
      "34\n"
     ]
    }
   ],
   "source": [
    "def assign3_fibo(n):\n",
    "    a=0\n",
    "    b=1\n",
    "    if n<=0:\n",
    "        return 0\n",
    "    else:\n",
    "        for i in range(0,n):\n",
    "            yield a\n",
    "            a,b = b,a+b\n",
    "for i in (assign3_fibo(10)):\n",
    "    print(i)"
   ]
  },
  {
   "cell_type": "markdown",
   "id": "e155fa09",
   "metadata": {},
   "source": [
    "Q5. Create a generator function for prime numbers less than 1000. Use the next() method to print the\n",
    "first 20 prime numbers."
   ]
  },
  {
   "cell_type": "code",
   "execution_count": null,
   "id": "f3057b3a",
   "metadata": {},
   "outputs": [],
   "source": []
  }
 ],
 "metadata": {
  "kernelspec": {
   "display_name": "Python 3 (ipykernel)",
   "language": "python",
   "name": "python3"
  },
  "language_info": {
   "codemirror_mode": {
    "name": "ipython",
    "version": 3
   },
   "file_extension": ".py",
   "mimetype": "text/x-python",
   "name": "python",
   "nbconvert_exporter": "python",
   "pygments_lexer": "ipython3",
   "version": "3.11.3"
  }
 },
 "nbformat": 4,
 "nbformat_minor": 5
}
