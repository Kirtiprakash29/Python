{
 "cells": [
  {
   "cell_type": "markdown",
   "id": "998cb7e0",
   "metadata": {},
   "source": [
    "Q1. How do you comment code in Python? What are the different types of comments?\n",
    "\n",
    "->Python code is commented using # at the beginning of code sentence\n",
    "->Different types of comments are:-\n",
    "Single line comment using #\n",
    "Multi line comment using # at the begining of every sentence\n",
    "Docstring comment or multiple comments using \"\"\" wherein long sizeable size code or explanation can be given"
   ]
  },
  {
   "cell_type": "code",
   "execution_count": 3,
   "id": "4675fa08",
   "metadata": {},
   "outputs": [],
   "source": [
    "#This is comment\n",
    "\"\"\"This is for comment purpose\"\"\"\n",
    "n =[1,2,3,4]"
   ]
  },
  {
   "cell_type": "markdown",
   "id": "a4da5ae0",
   "metadata": {},
   "source": [
    "Q2. What are variables in Python? How do you declare and assign values to variables?\n",
    "\n",
    "-> Variables are containers for storing data values.\n",
    "Variables cannot be keywords of python.Variables are such that it should start with alphabet and then can be clubbed with numbers and underscore\n",
    "-> x = 8  =>x is the variable  and number 8 is assigned to it"
   ]
  },
  {
   "cell_type": "code",
   "execution_count": 4,
   "id": "3452315c",
   "metadata": {},
   "outputs": [],
   "source": [
    "x = 8"
   ]
  },
  {
   "cell_type": "markdown",
   "id": "951d7249",
   "metadata": {},
   "source": [
    "Q3. How do you convert one data type to another in Python?\n",
    "\n",
    "->Data type can be converted by passing variable inside new data type\n",
    "This is valid for python specific data type as well like List,set,Tuple."
   ]
  },
  {
   "cell_type": "markdown",
   "id": "313fd52a",
   "metadata": {},
   "source": [
    "### Below example for explanation of data type and its conversion"
   ]
  },
  {
   "cell_type": "code",
   "execution_count": 18,
   "id": "4732e235",
   "metadata": {},
   "outputs": [
    {
     "name": "stdout",
     "output_type": "stream",
     "text": [
      "<class 'int'>\n",
      "<class 'float'>\n",
      "***********Thus we see y that is int type get converted to float and stored in a variable************\n",
      "(1, 2, 3, 4, 6, 6, 4)\n",
      "<class 'tuple'>\n",
      "<class 'list'>\n",
      "[1, 2, 3, 4, 6, 6, 4]\n",
      "<class 'set'>\n",
      "{1, 2, 3, 4, 6}\n"
     ]
    }
   ],
   "source": [
    "y = 8\n",
    "a = float(y)\n",
    "print(type(y))\n",
    "print(type(a))\n",
    "print(\"***********Thus we see y that is int type get converted to float and stored in a variable************\")\n",
    "\n",
    "\n",
    "z = (1,2,3,4,6,6,4)\n",
    "print(z)\n",
    "print(type(z))\n",
    "b = list(z)\n",
    "print(type(b))\n",
    "print(b)\n",
    "c = set(z)\n",
    "print(type(c))\n",
    "print(c) # set doesn't allow repetition"
   ]
  },
  {
   "cell_type": "markdown",
   "id": "af653612",
   "metadata": {},
   "source": [
    "Q4  How do you write and execute a Python script from the command line?\n",
    "\n",
    "--> Type python in command line shell->python version comes up->(Filename.py)-executes python code"
   ]
  },
  {
   "cell_type": "code",
   "execution_count": 20,
   "id": "56de2528",
   "metadata": {},
   "outputs": [
    {
     "name": "stdout",
     "output_type": "stream",
     "text": [
      "[2, 3]\n"
     ]
    }
   ],
   "source": [
    "#Q5. Given a list my_list = [1, 2, 3, 4, 5], write the code to slice the list and obtain the sub-list [2, 3].\n",
    "my_list = [1,2,3,4,5]\n",
    "sliced_list = my_list[1:3]\n",
    "print(sliced_list)"
   ]
  },
  {
   "cell_type": "markdown",
   "id": "9753ac67",
   "metadata": {},
   "source": [
    "Q6. What is a complex number in mathematics, and how is it represented in Python?\n",
    "\n",
    "Complex no is combination of real and imaginary number - x+iy where i imaginary number"
   ]
  },
  {
   "cell_type": "code",
   "execution_count": 23,
   "id": "959865df",
   "metadata": {},
   "outputs": [
    {
     "name": "stdout",
     "output_type": "stream",
     "text": [
      "<class 'complex'>\n"
     ]
    }
   ],
   "source": [
    "x = 2+3j\n",
    "print(type(x))"
   ]
  },
  {
   "cell_type": "code",
   "execution_count": 25,
   "id": "967f4ae2",
   "metadata": {},
   "outputs": [
    {
     "data": {
      "text/plain": [
       "25"
      ]
     },
     "execution_count": 25,
     "metadata": {},
     "output_type": "execute_result"
    }
   ],
   "source": [
    "#Q7. What is the correct way to declare a variable named age and assign the value 25 to it?\n",
    "age =25\n",
    "age\n",
    "#Variable 'age' is declared and assigned value of 25 then age is called in next line"
   ]
  },
  {
   "cell_type": "code",
   "execution_count": 28,
   "id": "8c31c21a",
   "metadata": {},
   "outputs": [
    {
     "name": "stdout",
     "output_type": "stream",
     "text": [
      "<class 'float'>\n"
     ]
    }
   ],
   "source": [
    "#Q8. Declare a variable named price and assign the value 9.99 to it. What data type does this variable belong to?\n",
    "\n",
    "price = 9.99\n",
    "print(type(price))\n",
    "\n",
    "# data type is float as it is decimal"
   ]
  },
  {
   "cell_type": "code",
   "execution_count": 33,
   "id": "126e596d",
   "metadata": {},
   "outputs": [
    {
     "name": "stdout",
     "output_type": "stream",
     "text": [
      "Kirti Prakash\n"
     ]
    },
    {
     "data": {
      "text/plain": [
       "'Kirti Prakash'"
      ]
     },
     "execution_count": 33,
     "metadata": {},
     "output_type": "execute_result"
    }
   ],
   "source": [
    "#Q9. Create a variable named name and assign your full name to it as a string. How would you print the value of this variable?\n",
    "\n",
    "name = \"Kirti Prakash\"\n",
    "print(name)\n",
    "name\n",
    "\n",
    "#using print it gives output as console while simply calling name doesn't give as console"
   ]
  },
  {
   "cell_type": "code",
   "execution_count": 35,
   "id": "8c6361b9",
   "metadata": {},
   "outputs": [
    {
     "data": {
      "text/plain": [
       "'World'"
      ]
     },
     "execution_count": 35,
     "metadata": {},
     "output_type": "execute_result"
    }
   ],
   "source": [
    "#Q10. Given the string \"Hello, World!\", extract the substring \"World\".\n",
    "\n",
    "String1 = \"Hello, World!\"\n",
    "String1[7:12]"
   ]
  },
  {
   "cell_type": "code",
   "execution_count": 38,
   "id": "b5ac0df3",
   "metadata": {},
   "outputs": [
    {
     "name": "stdout",
     "output_type": "stream",
     "text": [
      "Tell whether studying or something elsestudying\n",
      "True\n"
     ]
    }
   ],
   "source": [
    "#Q11. Create a variable named \"is_student\" and assign it a boolean value indicating whether you are currently a student or not.\n",
    "is_student = True\n",
    "x=input(\"Tell whether studying or something else\")\n",
    "if x == 'studying':\n",
    "    print(is_student)\n",
    "else:\n",
    "    print(\"False\")\n",
    "    \n",
    "#written a code simply asking user to enter details then displaying True false as per variable"
   ]
  },
  {
   "cell_type": "code",
   "execution_count": null,
   "id": "d922c4b6",
   "metadata": {},
   "outputs": [],
   "source": []
  }
 ],
 "metadata": {
  "kernelspec": {
   "display_name": "Python 3 (ipykernel)",
   "language": "python",
   "name": "python3"
  },
  "language_info": {
   "codemirror_mode": {
    "name": "ipython",
    "version": 3
   },
   "file_extension": ".py",
   "mimetype": "text/x-python",
   "name": "python",
   "nbconvert_exporter": "python",
   "pygments_lexer": "ipython3",
   "version": "3.11.3"
  }
 },
 "nbformat": 4,
 "nbformat_minor": 5
}
