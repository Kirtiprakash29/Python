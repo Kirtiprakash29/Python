{
 "cells": [
  {
   "cell_type": "markdown",
   "id": "479eec7a-3f02-452c-9b69-db0182c16353",
   "metadata": {},
   "source": [
    "Q1. Is there any difference in the data type of variables list_ and array_list? If there is then write a code\n",
    "to print the data types of both the variables."
   ]
  },
  {
   "cell_type": "code",
   "execution_count": 8,
   "id": "47a22d79-ea6e-4d27-a9b3-ddf3581b8f3c",
   "metadata": {},
   "outputs": [
    {
     "name": "stdout",
     "output_type": "stream",
     "text": [
      "<class 'list'>\n",
      "<class 'numpy.ndarray'>\n"
     ]
    }
   ],
   "source": [
    "import numpy as np\n",
    "list_ = ['1' , '2' , '3' , '4' , '5' ]\n",
    "array_list = np.array(object = list_)\n",
    "print(type(list_))\n",
    "print(type(array_list))"
   ]
  },
  {
   "cell_type": "markdown",
   "id": "27d9c124-b6c1-4368-9734-e7acce72d321",
   "metadata": {},
   "source": [
    "numpy. string_ is the NumPy datatype used for arrays containing fixed-width byte strings. On the other hand, str is a native Python type and can not be used as a datatype for NumPy arrays"
   ]
  },
  {
   "cell_type": "code",
   "execution_count": null,
   "id": "5819a724-87ef-43bd-85b9-05450bc26ab6",
   "metadata": {},
   "outputs": [],
   "source": []
  },
  {
   "cell_type": "markdown",
   "id": "0867a63f-6398-46db-bed0-38f31a9fd658",
   "metadata": {},
   "source": [
    "Q2. Write a code to print the data type of each and every element of both the variables list_ and\n",
    "arra_list."
   ]
  },
  {
   "cell_type": "code",
   "execution_count": 10,
   "id": "c7bd5e33-cb11-4883-980e-d25447cf6682",
   "metadata": {},
   "outputs": [
    {
     "name": "stdout",
     "output_type": "stream",
     "text": [
      "Data Type of 1 is <class 'str'>\n",
      "Data Type of 2 is <class 'str'>\n",
      "Data Type of 3 is <class 'str'>\n",
      "Data Type of 4 is <class 'str'>\n",
      "Data Type of 5 is <class 'str'>\n",
      "Data type of element 1 of array_list is <class 'numpy.str_'>\n",
      "Data type of element 2 of array_list is <class 'numpy.str_'>\n",
      "Data type of element 3 of array_list is <class 'numpy.str_'>\n",
      "Data type of element 4 of array_list is <class 'numpy.str_'>\n",
      "Data type of element 5 of array_list is <class 'numpy.str_'>\n"
     ]
    }
   ],
   "source": [
    "list_ = ['1' , '2' , '3' , '4' , '5' ]\n",
    "array_list = np.array(object = list_)\n",
    "for i in list_:\n",
    "    print(\"Data Type of {} is\".format(i),type(i))\n",
    "for j in array_list:\n",
    "    print(\"Data type of element {} of array_list is\".format(j),type(j))"
   ]
  },
  {
   "cell_type": "code",
   "execution_count": null,
   "id": "0d6b7acb-b12b-4726-a738-04067c72a02d",
   "metadata": {},
   "outputs": [],
   "source": []
  },
  {
   "cell_type": "markdown",
   "id": "71f0ec15-47b1-4309-a3c8-ab782de30a92",
   "metadata": {},
   "source": [
    "Q3. Considering the following changes in the variable, array_list:\n",
    "array_list = np.array(object = list_, dtype = int)\n",
    "Will there be any difference in the data type of the elements present in both the variables, list_ and\n",
    "arra_list? If so then print the data types of each and every element present in both the variables, list_\n",
    "and arra_list.\n",
    "\n",
    "-> Yes there are changes as new array_list now has all elements as int datatype while that of list_ is is still str"
   ]
  },
  {
   "cell_type": "code",
   "execution_count": 13,
   "id": "8985c0e4-affe-492c-927e-962f6bae87cf",
   "metadata": {},
   "outputs": [
    {
     "name": "stdout",
     "output_type": "stream",
     "text": [
      "<class 'numpy.int64'>\n",
      "<class 'numpy.int64'>\n",
      "<class 'numpy.int64'>\n",
      "<class 'numpy.int64'>\n",
      "<class 'numpy.int64'>\n",
      "Data Type of 1 is <class 'str'>\n",
      "Data Type of 2 is <class 'str'>\n",
      "Data Type of 3 is <class 'str'>\n",
      "Data Type of 4 is <class 'str'>\n",
      "Data Type of 5 is <class 'str'>\n"
     ]
    }
   ],
   "source": [
    "array_list = np.array(object = list_, dtype = int)\n",
    "for i in array_list:\n",
    "    print(type(i))\n",
    "for j in list_:\n",
    "    print(\"Data Type of {} is\".format(j),type(j))"
   ]
  },
  {
   "cell_type": "code",
   "execution_count": null,
   "id": "a20da4ac-3704-4a73-9815-a6f641b4e39c",
   "metadata": {},
   "outputs": [],
   "source": []
  },
  {
   "cell_type": "markdown",
   "id": "a720d1be-9417-499c-bf2b-ebe3a8e96759",
   "metadata": {},
   "source": [
    "Consider the below code to answer further questions:\n",
    "import numpy as np\n",
    "num_list = [ [ 1 , 2 , 3 ] , [ 4 , 5 , 6 ] ]\n",
    "num_array = np.array(object = num_list)\n",
    "\n",
    "Q4. Write a code to find the following characteristics of variable, num_array:\n",
    "(i) shape\n",
    "(ii) size"
   ]
  },
  {
   "cell_type": "code",
   "execution_count": 8,
   "id": "daafea7d-f852-4b2a-bd70-5564dd48df6d",
   "metadata": {},
   "outputs": [
    {
     "name": "stdout",
     "output_type": "stream",
     "text": [
      "Shape of num_array is (2, 3)\n",
      "Size of num_array is 6\n"
     ]
    }
   ],
   "source": [
    "import numpy as np\n",
    "num_list = [ [ 1 , 2 , 3 ] , [ 4 , 5 , 6 ] ]\n",
    "num_array = np.array(object = num_list)\n",
    "print(\"Shape of num_array is\",np.shape(num_array))\n",
    "print(\"Size of num_array is\",np.size(num_array))"
   ]
  },
  {
   "cell_type": "code",
   "execution_count": null,
   "id": "4bd70903-242c-4bc5-90e7-938b18f702b8",
   "metadata": {},
   "outputs": [],
   "source": []
  },
  {
   "cell_type": "markdown",
   "id": "cdc1475a-ed9f-4797-9d1e-a8dbf0c62747",
   "metadata": {},
   "source": [
    "Q5. Write a code to create numpy array of 3*3 matrix containing zeros only, using a numpy array\n",
    "creation function."
   ]
  },
  {
   "cell_type": "code",
   "execution_count": 13,
   "id": "38068a51-5be1-4122-a753-97554eb20354",
   "metadata": {},
   "outputs": [
    {
     "name": "stdout",
     "output_type": "stream",
     "text": [
      "Array of 3*3 matrix is \n",
      " [[0. 0. 0.]\n",
      " [0. 0. 0.]\n",
      " [0. 0. 0.]]\n"
     ]
    }
   ],
   "source": [
    "x = np.zeros((3,3))\n",
    "print(\"Array of 3*3 matrix is \\n\",x)"
   ]
  },
  {
   "cell_type": "code",
   "execution_count": null,
   "id": "1069fa8e-05fd-497f-b013-50ba9965f92d",
   "metadata": {},
   "outputs": [],
   "source": []
  },
  {
   "cell_type": "markdown",
   "id": "175ee817-0229-4c2d-b55d-e2cf54750c09",
   "metadata": {},
   "source": [
    "Q6. Create an identity matrix of shape (5,5) using numpy functions?"
   ]
  },
  {
   "cell_type": "code",
   "execution_count": 16,
   "id": "1a27ff37-0708-4c32-8354-1ae9fc8e110a",
   "metadata": {},
   "outputs": [
    {
     "name": "stdout",
     "output_type": "stream",
     "text": [
      "Identity matrix of 5*5 is \n",
      " [[1. 0. 0. 0. 0.]\n",
      " [0. 1. 0. 0. 0.]\n",
      " [0. 0. 1. 0. 0.]\n",
      " [0. 0. 0. 1. 0.]\n",
      " [0. 0. 0. 0. 1.]]\n"
     ]
    }
   ],
   "source": [
    "identity_matrix = np.eye(5,5)\n",
    "print(\"Identity matrix of 5*5 is \\n\",identity_matrix)"
   ]
  },
  {
   "cell_type": "code",
   "execution_count": null,
   "id": "b824111f-d53b-437a-b12c-8860793d2572",
   "metadata": {},
   "outputs": [],
   "source": []
  }
 ],
 "metadata": {
  "kernelspec": {
   "display_name": "Python 3 (ipykernel)",
   "language": "python",
   "name": "python3"
  },
  "language_info": {
   "codemirror_mode": {
    "name": "ipython",
    "version": 3
   },
   "file_extension": ".py",
   "mimetype": "text/x-python",
   "name": "python",
   "nbconvert_exporter": "python",
   "pygments_lexer": "ipython3",
   "version": "3.10.8"
  }
 },
 "nbformat": 4,
 "nbformat_minor": 5
}
