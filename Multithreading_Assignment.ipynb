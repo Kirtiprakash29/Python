{
 "cells": [
  {
   "cell_type": "markdown",
   "id": "cb622033-6cc1-47b5-a98a-f792ca27d9eb",
   "metadata": {},
   "source": [
    "Q1> What is multithreading in python? why is it used? Name the module used to handle threads in python\n",
    "\n",
    "-> Multithreading in Python is a popular technique that enables multiple tasks to be executed simultaneously. Thread is ligtweight process in execution. The ability of a processor to execute multiple threads simultaneously is known as multithreading.\n",
    "Python multithreading facilitates sharing data space and resources of multiple threads with the main thread. It allows efficient and easy communication between the threads.\n",
    "\n",
    "'threading'is the module  -> threading.Thread"
   ]
  },
  {
   "cell_type": "markdown",
   "id": "30acce96-a62b-4f20-9de2-c9f3325697d0",
   "metadata": {},
   "source": [
    "Q2> Why threading module used? Write the use of the following functions\n",
    "activeCount\n",
    "currentThread\n",
    "enumerate\n",
    "\n",
    "-> threading module is used to execute multiple programs simultaneously\n",
    "activecount is used to Return the number of Thread objects currently alive\n",
    "currentThread - Return the current Thread object, corresponding to the caller’s thread of control. If the caller’s thread of control was not created through the threading module, a dummy thread object with limited functionality is returned\n",
    "enumerate - Return a list of all Thread objects currently active. The list includes daemonic threads and dummy thread objects created by current_thread(). It excludes terminated threads and threads that have not yet been started. However, the main thread is always part of the result, even when terminated."
   ]
  },
  {
   "cell_type": "markdown",
   "id": "64f1a7ae-cc3e-4646-8c68-3ffba9813fb6",
   "metadata": {},
   "source": [
    "Q3. Explain the following functions\n",
    "\n",
    "run - Method representing the thread’s activity. The standard run() method invokes the callable object passed to the object’s constructor as the target argument\n",
    "\n",
    "start - Start the thread’s activity.It must be called at most once per thread object. It arranges for the object’s run() method to be invoked in a separate thread of control.\n",
    "This method will raise a RuntimeError if called more than once on the same thread object.\n",
    "\n",
    "join - To Wait until the thread terminates. This blocks the calling thread until the thread whose join() method is called terminates – either normally or through an unhandled exception – or until the optional timeout occurs.\n",
    "\n",
    "\n",
    "isAlive-Return whether the thread is alive.This method returns True just before the run() method starts until just after the run() method terminates."
   ]
  },
  {
   "cell_type": "markdown",
   "id": "faa3d8e4-69c5-45b6-bf2a-e8a2d1cf2bdb",
   "metadata": {},
   "source": [
    "Q4. Write a python program to create two threads. Thread one must print the list of squares and thread\n",
    "two must print the list of cubes"
   ]
  },
  {
   "cell_type": "code",
   "execution_count": 4,
   "id": "b1e09207-bbd1-4aa9-a63e-27d5f17aeb4e",
   "metadata": {},
   "outputs": [
    {
     "name": "stdout",
     "output_type": "stream",
     "text": [
      "The square is 100\n",
      "The square is 400\n",
      "The square is 900\n",
      "Cube is 1000\n",
      "Cube is 8000\n",
      "Cube is 27000\n"
     ]
    }
   ],
   "source": [
    "import threading\n",
    "def func_square(x):\n",
    "    print(\"The square is\", x**2)\n",
    "def func_cube(x):\n",
    "    print(\"Cube is\",x**3)\n",
    "th = [threading.Thread(target=func_square,args = (i, )) for i in [10,20,30]]\n",
    "thr = [threading.Thread(target = func_cube,args= (j,)) for j in [10,20,30]]\n",
    "for k in th:\n",
    "    k.start()\n",
    "for c in thr:\n",
    "    c.start()"
   ]
  },
  {
   "cell_type": "markdown",
   "id": "17e4e2b5-6612-46bf-b8c8-bf4447f52179",
   "metadata": {},
   "source": [
    "Q5. State advantages and disadvantages of multithreading\n",
    "\n",
    "-> Advantages of Multithreading are :-\n",
    "Enhanced performance by decreased development time\n",
    "\n",
    "Simplified and streamlined program coding as one start gives full result then second start initiates\n",
    "\n",
    "Improvised GUI responsiveness\n",
    "\n",
    "Simultaneous and parallelized occurrence of tasks\n",
    "\n",
    "Better use of cache storage by utilization of resources\n",
    "\n",
    "Decreased cost of maintenance\n",
    "\n",
    "Better use of CPU resource\n",
    "\n",
    "\n",
    "However there are some disadvantages too:-\n",
    "Complex debugging and testing processes\n",
    "\n",
    "Overhead switching of context\n",
    "\n",
    "Increased potential for deadlock occurrence\n",
    "\n",
    "Increased difficulty level in writing a program\n",
    "\n",
    "Unpredictable results"
   ]
  },
  {
   "cell_type": "markdown",
   "id": "da554d28-e9b8-4076-8bc5-62a53d35b891",
   "metadata": {},
   "source": [
    "Q6. Explain deadlocks and race conditions.\n",
    "\n",
    "A deadlock is when two (or more) threads are blocking each other. Usually this has something to do with threads trying to acquire shared resources. For example if threads T1 and T2 need to acquire both resources A and B in order to do their work. If T1 acquires resource A, then T2 acquires resource B, T1 could then be waiting for resource B while T2 was waiting for resource A. In this case, both threads will wait indefinitely for the resource held by the other thread. These threads are said to be deadlocked.\n",
    "\n",
    "Race conditions occur when two threads interact in a negatve (buggy) way depending on the exact order that their different instructions are executed. If one thread sets a global variable, for example, then a second thread reads and modifies that global variable, and the first thread reads the variable, the first thread may experience a bug because the variable has changed unexpectedly."
   ]
  },
  {
   "cell_type": "code",
   "execution_count": null,
   "id": "f23cc601-f3cf-4bdb-b19c-532b755580f5",
   "metadata": {},
   "outputs": [],
   "source": []
  }
 ],
 "metadata": {
  "kernelspec": {
   "display_name": "Python 3 (ipykernel)",
   "language": "python",
   "name": "python3"
  },
  "language_info": {
   "codemirror_mode": {
    "name": "ipython",
    "version": 3
   },
   "file_extension": ".py",
   "mimetype": "text/x-python",
   "name": "python",
   "nbconvert_exporter": "python",
   "pygments_lexer": "ipython3",
   "version": "3.10.8"
  }
 },
 "nbformat": 4,
 "nbformat_minor": 5
}
