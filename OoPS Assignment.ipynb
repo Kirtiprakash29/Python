{
 "cells": [
  {
   "cell_type": "code",
   "execution_count": null,
   "id": "c9b1fc9d",
   "metadata": {},
   "outputs": [],
   "source": []
  },
  {
   "cell_type": "markdown",
   "id": "45a9a6cb",
   "metadata": {},
   "source": [
    " Q1. Explain Class and Object with respect to Object-Oriented Programming. Give a suitable example.\n",
    " \n",
    " --> Class is blueprint or layout ascribing certain object with specific characteristic and behaviour. Class has member variables and user defined methods. Variable and method together as package is present inside class. Thus code is reusable or can be re-framed to our convenience as per object.\n",
    " ->Object is an instance of a class which comprise of variable and method working on data.\n",
    " \n",
    " Example:- A car can be considered class with features such as 4 tyres,2 headlights,Brakes,seats. Tyota,Innova,City can be termed as objects with properties specific to them but common to car attributes"
   ]
  },
  {
   "cell_type": "code",
   "execution_count": null,
   "id": "6ff29436",
   "metadata": {},
   "outputs": [],
   "source": []
  },
  {
   "cell_type": "markdown",
   "id": "62085e9c",
   "metadata": {},
   "source": [
    "Q2. Name the four pillars of OOPs.\n",
    "\n",
    "-->Abstraction - Display only essential information\n",
    "\n",
    "Encapsulation - Binding data and functions together\n",
    "\n",
    "Inheritance - Acquire properties if one class to another.Parent class--->Child class\n",
    "\n",
    "POlymorphism - Different forms\n"
   ]
  },
  {
   "cell_type": "code",
   "execution_count": null,
   "id": "6c10e9cf",
   "metadata": {},
   "outputs": [],
   "source": []
  },
  {
   "cell_type": "markdown",
   "id": "e7ad6bb3",
   "metadata": {},
   "source": [
    "Q3. Explain why the __init__() function is used. Give a suitable example.\n",
    "\n",
    "-->  __init__() function isbuilt in function to a class in python used to bind particular function along with arguements/data passed to particular class. \n",
    "On execution of class automatically init function gets executed.\n"
   ]
  },
  {
   "cell_type": "code",
   "execution_count": 2,
   "id": "b17de1d1",
   "metadata": {},
   "outputs": [],
   "source": [
    "class oops_assign1():\n",
    "    def __init__(self,name,mail_id,emp_id):\n",
    "        self.name = name\n",
    "        self.mail_id = mail_id\n",
    "        self.emp_id = emp_id\n",
    "        print(self.emp_id)"
   ]
  },
  {
   "cell_type": "code",
   "execution_count": 5,
   "id": "9057c11c",
   "metadata": {},
   "outputs": [
    {
     "name": "stdout",
     "output_type": "stream",
     "text": [
      "123321\n"
     ]
    },
    {
     "data": {
      "text/plain": [
       "'Modiji'"
      ]
     },
     "execution_count": 5,
     "metadata": {},
     "output_type": "execute_result"
    }
   ],
   "source": [
    "obj1=oops_assign1('Modiji','Modi@gmail.com',123321)\n",
    "obj1.mail_id"
   ]
  },
  {
   "cell_type": "code",
   "execution_count": null,
   "id": "da5a8340",
   "metadata": {},
   "outputs": [],
   "source": []
  },
  {
   "cell_type": "markdown",
   "id": "f90f7d40",
   "metadata": {},
   "source": [
    "Q4. Why self is used in OOPs?\n",
    "\n",
    "--> self is used to initialise particular function/method to particular class. It binds methods to class. However it must be noted that self is not a keyword i.e any other word can be used too other than python keywords"
   ]
  },
  {
   "cell_type": "code",
   "execution_count": null,
   "id": "9e63108d",
   "metadata": {},
   "outputs": [],
   "source": []
  },
  {
   "cell_type": "markdown",
   "id": "808baf40",
   "metadata": {},
   "source": [
    "Q5. What is inheritance? Give an example for each type of inheritance.\n",
    "\n",
    "-->Inheritance is acquiring properties/attributes from one class to another. Initial class can b termed as parent class and next class can be child/sub-class.\n",
    "->Different types of inheritance are:-\n"
   ]
  },
  {
   "cell_type": "markdown",
   "id": "f1cef5e7",
   "metadata": {},
   "source": [
    "### Single level inheritance"
   ]
  },
  {
   "cell_type": "code",
   "execution_count": 13,
   "id": "04d2f2af",
   "metadata": {},
   "outputs": [],
   "source": [
    "class oops_assign2():\n",
    "    def __init__(self,name,emp_id):\n",
    "        self.name = name\n",
    "        self.emp_id = emp_id\n",
    "        print(self.name,self.emp_id)"
   ]
  },
  {
   "cell_type": "code",
   "execution_count": 16,
   "id": "22e28dea",
   "metadata": {},
   "outputs": [],
   "source": [
    "class oops_assign4():\n",
    "    def method1(self):\n",
    "        print(\"Checking for inheritance\")"
   ]
  },
  {
   "cell_type": "code",
   "execution_count": 23,
   "id": "4518866e",
   "metadata": {},
   "outputs": [],
   "source": [
    "class oops_assign3(oops_assign4):\n",
    "    def __init__(self,mail_id):\n",
    "        self.mail_id = mail_id\n",
    "        self.method1()"
   ]
  },
  {
   "cell_type": "code",
   "execution_count": 24,
   "id": "82da89c7",
   "metadata": {},
   "outputs": [
    {
     "name": "stdout",
     "output_type": "stream",
     "text": [
      "Mukesh 456654\n"
     ]
    }
   ],
   "source": [
    "obj2 = oops_assign2('Mukesh',456654)"
   ]
  },
  {
   "cell_type": "code",
   "execution_count": 25,
   "id": "1f8b1c7c",
   "metadata": {},
   "outputs": [
    {
     "name": "stdout",
     "output_type": "stream",
     "text": [
      "Checking for inheritance\n"
     ]
    }
   ],
   "source": [
    "obj3 = oops_assign3('Mukesh@gmail.com')"
   ]
  },
  {
   "cell_type": "markdown",
   "id": "098197a5",
   "metadata": {},
   "source": [
    "### Multiple Inheritance  \n",
    "\n",
    "-*Inheritance of one child class from multiple base/parent class*"
   ]
  },
  {
   "cell_type": "code",
   "execution_count": 8,
   "id": "4ab4ddf0",
   "metadata": {},
   "outputs": [
    {
     "name": "stdout",
     "output_type": "stream",
     "text": [
      "11\n",
      "22\n"
     ]
    }
   ],
   "source": [
    "class oops_assign5():\n",
    "    a1=''\n",
    "    def oops_meth1(self):\n",
    "        #self.a1 = a1\n",
    "        print(self.a1)\n",
    "class oops_assign6():\n",
    "    b1 = ''\n",
    "    def oops_meth2(self):\n",
    "        #self.b1 = b1\n",
    "        print(self.b1)\n",
    "class oops_assign7(oops_assign5,oops_assign6):\n",
    "    #super.oops_meth1(a1)\n",
    "    #super.oops_meth2(b1)\n",
    "    def oops_meth3(self):\n",
    "        #self.c1 = c1\n",
    "        #print(self.c1)\n",
    "        print(self.a1)\n",
    "        print(self.b1)\n",
    "#obj1 = oops_assign5()\n",
    "#obj2 = oops_assign6()\n",
    "obj3 = oops_assign7()\n",
    "obj3.a1 =11\n",
    "obj3.b1=22\n",
    "obj3.oops_meth3()"
   ]
  },
  {
   "cell_type": "markdown",
   "id": "b440bf3c",
   "metadata": {},
   "source": [
    "### *Multilevel Inheritance - Inherit from b from a class and c from b class*"
   ]
  },
  {
   "cell_type": "code",
   "execution_count": 16,
   "id": "0fc138d6",
   "metadata": {},
   "outputs": [
    {
     "name": "stdout",
     "output_type": "stream",
     "text": [
      "10\n",
      "20\n",
      "30\n"
     ]
    }
   ],
   "source": [
    "class oops_assign8():\n",
    "    def __init__(self,a2):\n",
    "        self.a2 =a2\n",
    "        #print(self.a2)\n",
    "class oops_assign9(oops_assign8):\n",
    "    def __init__(self,a2,b2):\n",
    "        oops_assign8.__init__(self,a2)\n",
    "        self.b2 = b2\n",
    "        #print(self.b2)\n",
    "class oops_assign10(oops_assign9):\n",
    "    def __init__(self,a2,b2,c2):\n",
    "        oops_assign9.__init__(self,a2,b2)\n",
    "        self.c2 =c2\n",
    "    def assign10_meth1(self):\n",
    "        print(self.a2)\n",
    "        print(self.b2)\n",
    "        print(self.c2)\n",
    "ob = oops_assign10(10,20,30)\n",
    "#ob.__init__(10,20,30)\n",
    "ob.assign10_meth1()"
   ]
  },
  {
   "cell_type": "markdown",
   "id": "df69799b",
   "metadata": {},
   "source": [
    "### *Hierarchial Inheritance - 2 or more child classes derived from single parent class*"
   ]
  },
  {
   "cell_type": "code",
   "execution_count": 17,
   "id": "6e05f087",
   "metadata": {},
   "outputs": [],
   "source": [
    "class assign11():\n",
    "    def m1(self):\n",
    "        print(\"Inside parent class\")\n",
    "class assign12(assign11):\n",
    "    def m2(self):\n",
    "        print(\"Inside first sub class\")\n",
    "class assign13(assign11):\n",
    "    def m3(self):\n",
    "        print(\"Inside another sub class of parent class\")"
   ]
  },
  {
   "cell_type": "code",
   "execution_count": 19,
   "id": "786e6316",
   "metadata": {},
   "outputs": [
    {
     "name": "stdout",
     "output_type": "stream",
     "text": [
      "Inside parent class\n",
      "Inside parent class\n"
     ]
    }
   ],
   "source": [
    "#calling m1 of parent class from 2 child classses\n",
    "ob12 = assign12()\n",
    "ob13 = assign13()\n",
    "ob12.m1()\n",
    "ob13.m1()"
   ]
  },
  {
   "cell_type": "code",
   "execution_count": null,
   "id": "75959034",
   "metadata": {},
   "outputs": [],
   "source": []
  }
 ],
 "metadata": {
  "kernelspec": {
   "display_name": "Python 3 (ipykernel)",
   "language": "python",
   "name": "python3"
  },
  "language_info": {
   "codemirror_mode": {
    "name": "ipython",
    "version": 3
   },
   "file_extension": ".py",
   "mimetype": "text/x-python",
   "name": "python",
   "nbconvert_exporter": "python",
   "pygments_lexer": "ipython3",
   "version": "3.11.3"
  }
 },
 "nbformat": 4,
 "nbformat_minor": 5
}
